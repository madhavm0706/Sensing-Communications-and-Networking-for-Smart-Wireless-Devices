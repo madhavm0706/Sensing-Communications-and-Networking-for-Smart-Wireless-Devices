{
 "cells": [
  {
   "cell_type": "markdown",
   "id": "afe63648",
   "metadata": {},
   "source": [
    "Question 1:-\n",
    "\n",
    "1) 𝐴 =\n",
    "    1 0\n",
    "    0 1\n",
    "    \n",
    "Answer- Here C(A) is R2, since no of independents column vectors are two.\n",
    "\n",
    "2) 𝐵 =\n",
    "    1 2\n",
    "    2 4\n",
    "\n",
    "Answer- Here C(B) is R1, since no of independents column vector is 1.We can make column vector 2 as (C2 = 2*C1).\n",
    "\n",
    "3) 𝐷 =\n",
    "    1 2 3\n",
    "    0 0 4\n",
    " \n",
    "Answer- Here C(D) is R2, since no of independents column vectors are two. we can make Column vector 2 as ( C2 = 2*C1). So, no of independents vectors are 2 only.\n",
    "    "
   ]
  },
  {
   "cell_type": "markdown",
   "id": "2494a812",
   "metadata": {},
   "source": [
    "Question 2\n",
    "\n",
    "2) Write a program (in any convenient language, like Python/Matlab) that emulates\n",
    "an user localization using GPS. Use the following steps for doing this emulation.\n",
    "Also submit a report with relevant results and explainations.\n",
    "\n",
    "(a) Fix the user at (100,100,100). Put 5 satellites at any random locations (you can\n",
    "manually put their locations), and fix their positions. Now calculate the time it\n",
    "takes for a signal to arrive from each one of these satellites to the user."
   ]
  },
  {
   "cell_type": "code",
   "execution_count": 5,
   "id": "c9265c9a",
   "metadata": {},
   "outputs": [
    {
     "name": "stdout",
     "output_type": "stream",
     "text": [
      "[0.0037878093933037343, 0.0038796176787582216, 0.0036541133595503635, 0.003040228427090453, 0.003850864260858276]\n"
     ]
    }
   ],
   "source": [
    "#Solution of Part a\n",
    "import math\n",
    "import random\n",
    "user =[100,100,100] #user location\n",
    "\n",
    "satellite_location=[]\n",
    "for i in range(5):\n",
    "    satellite_location.append(random.sample(range(500,1000), 3))  #randomly creating satellite locations\n",
    "\n",
    "time =[]\n",
    "for i in range(5):\n",
    "    distance  = math.sqrt((satellite_location[i][0]-100)**2 +(satellite_location[i][1]-100)**2 +(satellite_location[i][2]-100)**2)\n",
    "    \n",
    "    speed = 300000  #speed in m/s\n",
    "    time.append(distance/speed)\n",
    "print(time) #print time in seconds for each satellite\n",
    "    "
   ]
  },
  {
   "cell_type": "markdown",
   "id": "ff6f118a",
   "metadata": {},
   "source": [
    "(b) Now lets do the opposite operation, i.e. use the satellite locations and the\n",
    "times to find out the location of the user. Check whether it is coming exactly\n",
    "as (100,100,100)."
   ]
  },
  {
   "cell_type": "code",
   "execution_count": 6,
   "id": "2260b8af",
   "metadata": {},
   "outputs": [
    {
     "name": "stdout",
     "output_type": "stream",
     "text": [
      "The location of a user is: \n",
      "[[100.]\n",
      " [100.]\n",
      " [100.]]\n",
      "Here the location is 100,100,100 as required\n"
     ]
    }
   ],
   "source": [
    "import numpy as np\n",
    "\n",
    "#Function yo calculate x vector from the calculated A and B matrix    \n",
    "def calculate_x(A,B):\n",
    "    a= np.array(A)\n",
    "   \n",
    "    b = np.linalg.inv(np.dot(a.T,A))\n",
    "   \n",
    "    c = np.dot(np.dot(b,a.T),B)\n",
    "  \n",
    "    return c\n",
    "\n",
    "#function to calculate A and B matrix by the equations of the five satellities(location created randomly in first question)\n",
    "def cal_A_cal_B(dist):\n",
    "    \n",
    "    #initiaalizing matrix A and matrix B as (4x4) and (4x1) each\n",
    "    \n",
    "    A = [ [ None for y in range( 4 ) ]\n",
    "             for x in range( 4 ) ]\n",
    "               \n",
    "    B = [ [ None for y in range( 1 ) ]\n",
    "             for x in range( 4 ) ]\n",
    "               \n",
    "\n",
    "\n",
    "    #calculating matrix element as the given in the pdf by solving equations of each satellite.\n",
    "    for i in range(4):\n",
    "        B[i][0] = (dist[i]**2 - dist[i+1]**2)\n",
    "        for j in range(3):\n",
    "            A[i][j] = 2*(satellite_location[i+1][j] -satellite_location[i][j])\n",
    "            B[i][0] = B[i][0] - ((satellite_location[i][j])**2 -(satellite_location[i+1][j])**2) \n",
    "        A[i][3] = 2*(dist[i]-dist[i+1])\n",
    "    return A,B\n",
    "\n",
    "#initializing distance list\n",
    "distance =[]\n",
    "\n",
    "\n",
    "for i in range(5):\n",
    "    distance.append(time[i]*300000)\n",
    "    \n",
    "#calculating A and B matrix    \n",
    "A,B = cal_A_cal_B(distance)\n",
    "\n",
    "#calculating x vector that gives the location of the user\n",
    "x = calculate_x(A,B)\n",
    "\n",
    "print(\"The location of a user is: \")\n",
    "print(x[0:3])\n",
    "\n",
    "print(\"Here the location is 100,100,100 as required\")"
   ]
  },
  {
   "cell_type": "markdown",
   "id": "9cc98a14",
   "metadata": {},
   "source": [
    "(c) Now add some random errors with the times (you can use function likes\n",
    "“rand” in matlab). Check how much location inaccuracy it showing up."
   ]
  },
  {
   "cell_type": "code",
   "execution_count": 7,
   "id": "d85306af",
   "metadata": {},
   "outputs": [
    {
     "name": "stdout",
     "output_type": "stream",
     "text": [
      "The Inaccuracy is  0.25709509362025473  meters\n"
     ]
    }
   ],
   "source": [
    "#function to calculate distance of each satellite with some error delta.\n",
    "\n",
    "def cal_distance(delta,speed):\n",
    "    distance =[]\n",
    "    for i in range(5):\n",
    "        distance.append((time[i]+delta)*speed)\n",
    "    return distance\n",
    "    \n",
    "\n",
    "#function to calculate inaccuracy \n",
    "\n",
    "def cal_inaccuracy(distance):\n",
    "    \n",
    "    A,B = cal_A_cal_B(distance)\n",
    "    x= calculate_x(A,B)\n",
    "  \n",
    "    \n",
    "   \n",
    "    ds =0\n",
    "    for i in range(3):\n",
    "        ds  +=  (x[i]-100)**2\n",
    "    \n",
    "    inaccquarcy = math.sqrt(ds)\n",
    "    \n",
    "    return inaccquarcy\n",
    "\n",
    "\n",
    "\n",
    "\n",
    "#delta is a random error         \n",
    "delta = random.randint(1,10)\n",
    "\n",
    "#calculating a new distance list by considering the error\n",
    "dis = cal_distance(delta,300000)  \n",
    "\n",
    "#calculating the inaccuracy in meters.\n",
    "a= cal_inaccuracy(dis)\n",
    "\n",
    "\n",
    "print(\"The Inaccuracy is \",a*1000,\" meters\")"
   ]
  },
  {
   "cell_type": "code",
   "execution_count": 13,
   "id": "1f87d331",
   "metadata": {},
   "outputs": [
    {
     "data": {
      "image/png": "[encoded data removed]",
      "text/plain": [
       "<Figure size 432x288 with 1 Axes>"
      ]
     },
     "metadata": {
      "needs_background": "light"
     },
     "output_type": "display_data"
    }
   ],
   "source": [
    "from numpy import random\n",
    "\n",
    "#initializing loalization error list\n",
    "localizationerror = []\n",
    "#initializing time error list\n",
    "time1=[]\n",
    "\n",
    "#appending random time error  to time1 list\n",
    "for i in range(8):\n",
    "    time1.append(random.uniform(1,10))\n",
    "\n",
    "#sort the time1 array  \n",
    "time1.sort()\n",
    "\n",
    "#calculating the new distance and inaccuracy with the time error\n",
    "for i in time1:\n",
    "    dis = cal_distance(i,300000)\n",
    "   \n",
    "    err = cal_inaccuracy(dis)\n",
    "    localizationerror.append(err*1000)\n",
    "\n",
    "\n",
    "#plotting the graph    \n",
    "\n",
    "import matplotlib.pyplot as plt\n",
    "\n",
    "\n",
    "#plotting the graph using matplotlib library\n",
    "plt.scatter(time1,localizationerror)\n",
    "plt.plot(time1,localizationerror)\n",
    "\n",
    "#giving label to x-axis and y-axis\n",
    "plt.title(\"Graph between Inacuuracy and time error\", loc = 'left')\n",
    "plt.xlabel(\"Time Error\")\n",
    "plt.ylabel(\"Inaccuracy in meters\")\n",
    "\n",
    "plt.show()"
   ]
  },
  {
   "cell_type": "code",
   "execution_count": null,
   "id": "c28f7873",
   "metadata": {},
   "outputs": [],
   "source": []
  },
  {
   "cell_type": "code",
   "execution_count": null,
   "id": "3e49366a",
   "metadata": {},
   "outputs": [],
   "source": []
  }
 ],
 "metadata": {
  "kernelspec": {
   "display_name": "Python 3 (ipykernel)",
   "language": "python",
   "name": "python3"
  },
  "language_info": {
   "codemirror_mode": {
    "name": "ipython",
    "version": 3
   },
   "file_extension": ".py",
   "mimetype": "text/x-python",
   "name": "python",
   "nbconvert_exporter": "python",
   "pygments_lexer": "ipython3",
   "version": "3.8.10"
  }
 },
 "nbformat": 4,
 "nbformat_minor": 5
}
